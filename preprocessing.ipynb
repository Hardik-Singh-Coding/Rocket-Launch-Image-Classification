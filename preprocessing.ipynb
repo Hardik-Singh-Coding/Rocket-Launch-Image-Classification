{
 "cells": [
  {
   "cell_type": "markdown",
   "id": "f6d9a9d2",
   "metadata": {},
   "source": [
    "# Data Preprocessing"
   ]
  },
  {
   "cell_type": "code",
   "execution_count": 13,
   "id": "51603fbd",
   "metadata": {},
   "outputs": [],
   "source": [
    "import matplotlib.pylab as plt\n",
    "import cv2\n",
    "import os\n",
    "from glob import glob"
   ]
  },
  {
   "cell_type": "markdown",
   "id": "1fca09d0",
   "metadata": {},
   "source": [
    "### Read images"
   ]
  },
  {
   "cell_type": "code",
   "execution_count": 14,
   "id": "bfa7fcde",
   "metadata": {},
   "outputs": [],
   "source": [
    "day_input = glob(r'D:\\Sem 5\\NNFS\\Project\\Input\\Day\\*.jpg')\n",
    "night_input = glob(r'D:\\Sem 5\\NNFS\\Project\\Input\\Night\\*.jpg')\n",
    "\n",
    "day_output = r'D:\\Sem 5\\NNFS\\Project\\Output\\Day'\n",
    "night_output = r'D:\\Sem 5\\NNFS\\Project\\Output\\Night'"
   ]
  },
  {
   "cell_type": "markdown",
   "id": "546eb75d",
   "metadata": {},
   "source": [
    "##### Preprocess Images"
   ]
  },
  {
   "cell_type": "code",
   "execution_count": 15,
   "id": "0c4dfd0c",
   "metadata": {},
   "outputs": [],
   "source": [
    "def preprocess(input_folder, output_folder, size=(500,500)):\n",
    "    for filename in input_folder:\n",
    "        img = plt.imread(filename)\n",
    "\n",
    "        # gray = cv2.cvtColor(img, cv2.COLOR_BGR2GRAY)\n",
    "\n",
    "        resized = cv2.resize(img, size)\n",
    "        \n",
    "        save_path = os.path.join(output_folder, os.path.basename(filename))\n",
    "        plt.imsave(save_path, resized, cmap='Greys')"
   ]
  },
  {
   "cell_type": "code",
   "execution_count": 16,
   "id": "867af1a6",
   "metadata": {},
   "outputs": [],
   "source": [
    "preprocess(day_input, day_output)\n",
    "preprocess(night_input, night_output)"
   ]
  }
 ],
 "metadata": {
  "kernelspec": {
   "display_name": "Python 3",
   "language": "python",
   "name": "python3"
  },
  "language_info": {
   "codemirror_mode": {
    "name": "ipython",
    "version": 3
   },
   "file_extension": ".py",
   "mimetype": "text/x-python",
   "name": "python",
   "nbconvert_exporter": "python",
   "pygments_lexer": "ipython3",
   "version": "3.13.2"
  }
 },
 "nbformat": 4,
 "nbformat_minor": 5
}
